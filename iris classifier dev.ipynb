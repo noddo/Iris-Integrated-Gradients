{
 "cells": [
  {
   "cell_type": "markdown",
   "metadata": {},
   "source": [
    "--### import needed modules ###--"
   ]
  },
  {
   "cell_type": "code",
   "execution_count": 1,
   "metadata": {},
   "outputs": [],
   "source": [
    "import pandas as pd\n",
    "import numpy as np\n",
    "import sklearn as skl\n",
    "from sklearn.model_selection import train_test_split\n",
    "import tensorflow.keras as k\n",
    "import tensorflow as tf"
   ]
  },
  {
   "cell_type": "markdown",
   "metadata": {},
   "source": [
    "--### import data, split into train and test sets ###--"
   ]
  },
  {
   "cell_type": "code",
   "execution_count": 3,
   "metadata": {},
   "outputs": [],
   "source": [
    "iris=pd.read_csv(\"C:\\\\Users\\\\nickolas.oddo\\\\Desktop\\\\Iris Dataset Integrated Gradients\\\\iris.csv\")\n",
    "\n",
    "class_lib={0:\"Iris-setosa\", 1:\"Iris-versicolor\",2:\"Iris-virginica\" }\n",
    "\n",
    "train,test=train_test_split(iris,test_size=.33,stratify=iris.class_int)\n",
    "\n",
    "trainX,trainY=train.iloc[:,:4],k.utils.to_categorical(train.iloc[:,4])\n",
    "testX,testY=test.iloc[:,:4],k.utils.to_categorical(test.iloc[:,4])\n",
    "testY_classes=test.iloc[:,4]"
   ]
  },
  {
   "cell_type": "markdown",
   "metadata": {},
   "source": [
    "--### build model ###--"
   ]
  },
  {
   "cell_type": "code",
   "execution_count": 4,
   "metadata": {
    "scrolled": true
   },
   "outputs": [
    {
     "output_type": "stream",
     "name": "stdout",
     "text": [
      "Model: \"model\"\n_________________________________________________________________\nLayer (type)                 Output Shape              Param #   \n=================================================================\ninput_layer (InputLayer)     [(None, 4)]               0         \n_________________________________________________________________\ndense_layer (Dense)          (None, 10)                50        \n_________________________________________________________________\noutput (Dense)               (None, 3)                 33        \n=================================================================\nTotal params: 83\nTrainable params: 83\nNon-trainable params: 0\n_________________________________________________________________\n"
     ]
    }
   ],
   "source": [
    "input_l=k.Input(shape=(4,),name='input_layer')\n",
    "dense_1=k.layers.Dense(10,activation='relu',name='dense_layer')(input_l)\n",
    "output_l=k.layers.Dense(3,activation='softmax',name='output')(dense_1)\n",
    "model=k.Model(input_l, output_l)\n",
    "\n",
    "model.summary()"
   ]
  },
  {
   "cell_type": "markdown",
   "metadata": {},
   "source": [
    "--### train model on training set ###--"
   ]
  },
  {
   "cell_type": "code",
   "execution_count": 5,
   "metadata": {
    "scrolled": true
   },
   "outputs": [
    {
     "output_type": "stream",
     "name": "stdout",
     "text": [
      "Epoch 1/15\n",
      "100/100 [==============================] - 1s 776us/step - loss: 2.1304\n",
      "Epoch 2/15\n",
      "100/100 [==============================] - 0s 796us/step - loss: 1.3489\n",
      "Epoch 3/15\n",
      "100/100 [==============================] - 0s 746us/step - loss: 1.0852\n",
      "Epoch 4/15\n",
      "100/100 [==============================] - 0s 705us/step - loss: 0.9771\n",
      "Epoch 5/15\n",
      "100/100 [==============================] - 0s 725us/step - loss: 0.9069\n",
      "Epoch 6/15\n",
      "100/100 [==============================] - 0s 705us/step - loss: 0.8460\n",
      "Epoch 7/15\n",
      "100/100 [==============================] - 0s 705us/step - loss: 0.7862\n",
      "Epoch 8/15\n",
      "100/100 [==============================] - 0s 756us/step - loss: 0.7261\n",
      "Epoch 9/15\n",
      "100/100 [==============================] - 0s 705us/step - loss: 0.6674\n",
      "Epoch 10/15\n",
      "100/100 [==============================] - 0s 695us/step - loss: 0.6185\n",
      "Epoch 11/15\n",
      "100/100 [==============================] - 0s 685us/step - loss: 0.5731\n",
      "Epoch 12/15\n",
      "100/100 [==============================] - 0s 695us/step - loss: 0.5331\n",
      "Epoch 13/15\n",
      "100/100 [==============================] - 0s 766us/step - loss: 0.4995\n",
      "Epoch 14/15\n",
      "100/100 [==============================] - 0s 695us/step - loss: 0.4670\n",
      "Epoch 15/15\n",
      "100/100 [==============================] - 0s 680us/step - loss: 0.4402\n"
     ]
    },
    {
     "output_type": "execute_result",
     "data": {
      "text/plain": [
       "<tensorflow.python.keras.callbacks.History at 0x2696e193550>"
      ]
     },
     "metadata": {},
     "execution_count": 5
    }
   ],
   "source": [
    "model.compile(optimizer=k.optimizers.RMSprop(),loss=k.losses.CategoricalCrossentropy())\n",
    "model.fit(trainX,trainY,epochs=15,batch_size=1)"
   ]
  },
  {
   "cell_type": "markdown",
   "metadata": {},
   "source": [
    "--### Evaluate model ###--"
   ]
  },
  {
   "cell_type": "code",
   "execution_count": 6,
   "metadata": {},
   "outputs": [],
   "source": [
    "modelpreds_prob=model.predict(testX).reshape((50,3))\n",
    "modelpreds_class=np.argmax(modelpreds_prob,axis=1)"
   ]
  },
  {
   "cell_type": "code",
   "execution_count": 7,
   "metadata": {},
   "outputs": [],
   "source": [
    "groundtruth=np.array(testY_classes)\n",
    "predclasses=np.array(modelpreds_class)"
   ]
  },
  {
   "cell_type": "code",
   "execution_count": 8,
   "metadata": {},
   "outputs": [
    {
     "output_type": "execute_result",
     "data": {
      "text/plain": [
       "array([[17,  0,  0],\n",
       "       [ 0, 14,  3],\n",
       "       [ 0,  0, 16]], dtype=int64)"
      ]
     },
     "metadata": {},
     "execution_count": 8
    }
   ],
   "source": [
    "modelClass_report=skl.metrics.multilabel_confusion_matrix(y_true=groundtruth,y_pred=predclasses)\n",
    "confusion_matrix=skl.metrics.confusion_matrix(y_true=groundtruth,y_pred=predclasses)\n",
    "modelClass_report\n",
    "confusion_matrix"
   ]
  },
  {
   "cell_type": "markdown",
   "metadata": {},
   "source": [
    "--### Save model and weights ###--"
   ]
  },
  {
   "cell_type": "code",
   "execution_count": 9,
   "metadata": {},
   "outputs": [
    {
     "output_type": "stream",
     "name": "stdout",
     "text": [
      "INFO:tensorflow:Assets written to: C:\\Users\\nickolas.oddo\\Desktop\\Iris Dataset Integrated Gradients\\model weights\\irismod\\assets\n"
     ]
    }
   ],
   "source": [
    "folder_path='C:\\\\Users\\\\nickolas.oddo\\\\Desktop\\\\Iris Dataset Integrated Gradients\\\\model weights'\n",
    "model.save(folder_path+'\\\\irismod')"
   ]
  },
  {
   "cell_type": "code",
   "execution_count": null,
   "metadata": {},
   "outputs": [],
   "source": []
  }
 ],
 "metadata": {
  "kernelspec": {
   "display_name": "Python 3",
   "language": "python",
   "name": "python3"
  },
  "language_info": {
   "codemirror_mode": {
    "name": "ipython",
    "version": 3
   },
   "file_extension": ".py",
   "mimetype": "text/x-python",
   "name": "python",
   "nbconvert_exporter": "python",
   "pygments_lexer": "ipython3",
   "version": "3.8.5"
  }
 },
 "nbformat": 4,
 "nbformat_minor": 4
}